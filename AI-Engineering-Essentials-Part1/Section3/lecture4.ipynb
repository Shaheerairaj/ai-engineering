{
 "cells": [
  {
   "cell_type": "markdown",
   "metadata": {},
   "source": [
    "# AI Engineering Essentials\n",
    "\n",
    "## Section 3\n",
    "\n",
    "### Lecture 4: Coding using OpenAI"
   ]
  },
  {
   "cell_type": "markdown",
   "metadata": {},
   "source": [
    "#### Step 1: Import libraries and load the environment variables"
   ]
  },
  {
   "cell_type": "code",
   "execution_count": null,
   "metadata": {},
   "outputs": [],
   "source": [
    "import os\n",
    "from openai import OpenAI\n",
    "from dotenv import load_dotenv\n",
    "from IPython.display import Markdown, display\n",
    "\n",
    "load_dotenv()\n",
    "\n",
    "OPENAI_API_KEY = os.getenv(\"OPENAI_API_KEY\")\n",
    "\n",
    "if OPENAI_API_KEY is None:\n",
    "    raise Exception(\"API key is missing\")"
   ]
  },
  {
   "cell_type": "markdown",
   "metadata": {},
   "source": [
    "#### Step 2: Call the OpenAI API"
   ]
  },
  {
   "cell_type": "code",
   "execution_count": null,
   "metadata": {},
   "outputs": [],
   "source": [
    "client = OpenAI()\n",
    "\n",
    "completion = client.chat.completions.create(\n",
    "    model=\"gpt-4o-mini\",\n",
    "    messages=[\n",
    "        {\"role\": \"system\", \"content\": \"You are a helpful assistant.\"},\n",
    "        {\n",
    "            \"role\": \"user\",\n",
    "            \"content\": \"Write a haiku about recursion in programming.\"\n",
    "        }\n",
    "    ]\n",
    ")\n",
    "\n",
    "print(completion.choices[0].message)"
   ]
  },
  {
   "cell_type": "markdown",
   "metadata": {},
   "source": [
    "#### Step 3: Customize the User\n",
    "\n",
    "Build a travel itinerary"
   ]
  },
  {
   "cell_type": "code",
   "execution_count": null,
   "metadata": {},
   "outputs": [],
   "source": [
    "system_message = \"You are a helpful assistant.\"\n",
    "\n",
    "prompt = \"\"\"\n",
    "Create a BRIEF travel itinerary for the following scenario:\n",
    "\n",
    "Travelers: A family of 4 with 2 adults and 2 children (ages 8 and 10)\n",
    "Destination: Japan\n",
    "Duration: 3 days\n",
    "Budget: $500\n",
    "\n",
    "Requirements:\n",
    "- Keep the entire itinerary under 400 words\n",
    "- Use bullet points for each activity\n",
    "- Include only 3 activities per day (morning, afternoon, evening)\n",
    "- List approximate cost for each activity\n",
    "- Ensure variety (cultural, outdoor, local experience)\n",
    "\n",
    "Format each day as:\n",
    "DAY 1: [Day of week]\n",
    "- Morning: [Activity] - $XX\n",
    "- Afternoon: [Activity] - $XX\n",
    "- Evening: [Activity/meal] - $XX\n",
    "\n",
    "End with a simple total cost summary.\n",
    "\"\"\"\n",
    "\n",
    "completion = client.chat.completions.create(\n",
    "    model=\"gpt-4o-mini\",\n",
    "    messages=[\n",
    "        {\"role\": \"system\", \"content\": system_message},\n",
    "        {\n",
    "            \"role\": \"user\",\n",
    "            \"content\": prompt\n",
    "        }\n",
    "    ]\n",
    ")\n",
    "\n",
    "chat_response = completion.choices[0].message.content\n",
    "display(Markdown(chat_response))"
   ]
  },
  {
   "cell_type": "markdown",
   "metadata": {},
   "source": [
    "#### Step 4: Rate the response using a reasoning model"
   ]
  },
  {
   "cell_type": "code",
   "execution_count": null,
   "metadata": {},
   "outputs": [],
   "source": [
    "system_message = \"You are a helpful assistant.\"\n",
    "\n",
    "reasoning_prompt = f\"\"\"\n",
    "I've been given this travel itinerary:\n",
    "\n",
    "{chat_response}\n",
    "\n",
    "Provide a BRIEF rating in each category with ONE LINE of explanation:\n",
    "\n",
    "1. Budget (1-10): [Score] - [One-line explanation]\n",
    "2. Pacing (1-10): [Score] - [One-line explanation]\n",
    "3. Variety (1-10): [Score] - [One-line explanation]\n",
    "4. Family-Friendly (1-10): [Score] - [One-line explanation]\n",
    "5. Local Experience (1-10): [Score] - [One-line explanation]\n",
    "6. Cohesiveness (1-10): [Score] - [One-line explanation]\n",
    "\n",
    "TOTAL SCORE: [X/100]\n",
    "\"\"\"\n",
    "\n",
    "completion = client.chat.completions.create(\n",
    "    model=\"o3-mini\",\n",
    "    messages=[\n",
    "        {\"role\": \"system\", \"content\": system_message},\n",
    "        {\n",
    "            \"role\": \"user\",\n",
    "            \"content\": reasoning_prompt\n",
    "        }\n",
    "    ]\n",
    ")\n",
    "\n",
    "reasoning_response = completion.choices[0].message.content\n",
    "display(Markdown(reasoning_response))"
   ]
  },
  {
   "cell_type": "code",
   "execution_count": null,
   "metadata": {},
   "outputs": [],
   "source": []
  }
 ],
 "metadata": {
  "kernelspec": {
   "display_name": "ai_env",
   "language": "python",
   "name": "python3"
  },
  "language_info": {
   "codemirror_mode": {
    "name": "ipython",
    "version": 3
   },
   "file_extension": ".py",
   "mimetype": "text/x-python",
   "name": "python",
   "nbconvert_exporter": "python",
   "pygments_lexer": "ipython3",
   "version": "3.12.9"
  }
 },
 "nbformat": 4,
 "nbformat_minor": 2
}
